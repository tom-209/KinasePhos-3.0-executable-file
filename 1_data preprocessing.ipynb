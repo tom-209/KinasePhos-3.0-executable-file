{
 "cells": [
  {
   "cell_type": "code",
   "execution_count": 1,
   "metadata": {},
   "outputs": [],
   "source": [
    "import pandas as pd\n",
    "import urllib\n",
    "import numpy as np\n",
    "\n",
    "from urllib.request import urlopen"
   ]
  },
  {
   "cell_type": "markdown",
   "metadata": {},
   "source": [
    "# Functions to extract negative sites, (i.e., S, T, Y +/- 7) in substrate proteins"
   ]
  },
  {
   "cell_type": "code",
   "execution_count": 2,
   "metadata": {},
   "outputs": [],
   "source": [
    "def protein_seq(url, codes):\n",
    "    #url --- the fasta link of a specific uniprot protein   \n",
    "    sites=[]\n",
    "    \n",
    "    #extract the sequence and concate them into a string\n",
    "    for n,line in enumerate(urlopen(url)):\n",
    "        if (n!=0):\n",
    "            line = line.decode('utf-8')  # Decoding the binary data to text.\n",
    "            sites.append(line.rstrip(\"\\n\").rstrip(\" \"))            \n",
    "    sites=''.join(sites) \n",
    "    \n",
    "    seq=[]\n",
    "    for i in range(0,len(sites)):\n",
    "        if sites[i] in codes: #[\"S\",\"T\",\"Y\"], [\"S\", \"T\"] or [\"Y\"]\n",
    "            \n",
    "            pos=i+1\n",
    "    \n",
    "            ses=''\n",
    "            if pos>=8 and (pos+7)<=len(sites):\n",
    "                ses=(sites[pos-8:pos+7])\n",
    "                \n",
    "            elif pos < 8:   \n",
    "                for m in range(0,8-pos):\n",
    "                    ses = ses+\"*\"    \n",
    "                for j in range(8-pos,15):\n",
    "                    ses+=sites[pos-8+j]\n",
    "                    \n",
    "            elif (pos+7)>len(sites):\n",
    "                for j in range(0,len(sites)-pos+8):\n",
    "                    ses+=sites[pos-8+j]\n",
    "                    \n",
    "                for n in range(0,pos+7-len(sites)):\n",
    "                    ses = ses+\"*\"\n",
    "            seq.append(ses)            \n",
    "               \n",
    "    return (seq)"
   ]
  },
  {
   "cell_type": "code",
   "execution_count": 3,
   "metadata": {},
   "outputs": [],
   "source": [
    "def negative_seq(positive, sub_acc, codes):\n",
    "    \n",
    "    sequences=[]\n",
    "    for ids in sub_acc:\n",
    "        \n",
    "        try:\n",
    "            url='https://www.uniprot.org/uniprot/' + ids + '.fasta'\n",
    "            urlopen(url)\n",
    "            seq = protein_seq(url, codes)\n",
    "            sequences+=seq\n",
    "            \n",
    "        except Exception:\n",
    "            continue    \n",
    "            \n",
    "    # remove the duplicates\n",
    "    sequences = list(dict.fromkeys(sequences))\n",
    "    \n",
    "    # remove postive to obtain negative sites\n",
    "    sequences = list(set(sequences) - set(positive))\n",
    "    \n",
    "    return (sequences)"
   ]
  },
  {
   "cell_type": "code",
   "execution_count": 4,
   "metadata": {},
   "outputs": [],
   "source": [
    "def write_neg(ads, sequences):\n",
    "    \n",
    "    with open(ads, 'w') as file:\n",
    "        for listitem in sequences:\n",
    "            #filter sequence with X, U or Z\n",
    "            if not (\"X\" in listitem or \"U\" in listitem or \"Z\" in listitem):\n",
    "                file.write('%s\\n' % listitem)"
   ]
  },
  {
   "cell_type": "code",
   "execution_count": null,
   "metadata": {},
   "outputs": [],
   "source": []
  },
  {
   "cell_type": "markdown",
   "metadata": {},
   "source": [
    "# import data and export positive and negative sites"
   ]
  },
  {
   "cell_type": "markdown",
   "metadata": {},
   "source": [
    "### Kinase group level"
   ]
  },
  {
   "cell_type": "code",
   "execution_count": null,
   "metadata": {},
   "outputs": [],
   "source": [
    "groups = ['TK', 'CMGC', 'AGC', 'STE', 'CK1', 'CAMK', 'Other', 'TKL', 'Atypical', 'PKL']\n",
    "codes=[\"S\", \"T\", \"Y\"]\n",
    "for group in groups:\n",
    "    \n",
    "    df = pd.read_csv(\"./data/Group K-S sites/\"+str(group)+\"_Group.csv\")\n",
    "    df[\"PEPTIDE\"].to_csv('./data/Group positive/'+str(group) +'_positive.txt', index=False, header=False)\n",
    "    \n",
    "    positive = df[\"PEPTIDE\"].to_list()\n",
    "    sub_acc = df[\"SUB_ACC\"].unique()\n",
    "    \n",
    "    sequences = negative_seq(positive, sub_acc, codes)\n",
    "    \n",
    "    ads = './data/Group negative/'+ str(group) +'_negative.txt'\n",
    "    write_neg(ads, sequences)\n"
   ]
  },
  {
   "cell_type": "code",
   "execution_count": null,
   "metadata": {},
   "outputs": [],
   "source": []
  },
  {
   "cell_type": "markdown",
   "metadata": {},
   "source": [
    "### Kinase family level"
   ]
  },
  {
   "cell_type": "code",
   "execution_count": null,
   "metadata": {},
   "outputs": [],
   "source": [
    "# get the name lists of kinase families with more than 15 S/T/Y, S/T, and Y sites, respectively\n",
    "families = np.load(\"family 15.npy\", allow_pickle=True)\n",
    "families_st = np.load(\"family_st 15.npy\", allow_pickle=True)\n",
    "families_y = np.load(\"family_y 15.npy\", allow_pickle=True)"
   ]
  },
  {
   "cell_type": "code",
   "execution_count": null,
   "metadata": {},
   "outputs": [],
   "source": [
    "#STY\n",
    "codes=[\"S\", \"T\", \"Y\"]\n",
    "for group in families:\n",
    "    \n",
    "    df = pd.read_csv(\"./data/Family K-S sites/\"+str(group)+\"_Family.csv\")\n",
    "    \n",
    "    #export positive sites\n",
    "    df[\"PEPTIDE\"].to_csv('./data/Family positive/'+str(group) +'_STY_positive.txt', index=False, header=False)\n",
    "    \n",
    "    positive = df[\"PEPTIDE\"].to_list()\n",
    "    sub_acc = df[\"SUB_ACC\"].unique()\n",
    "    \n",
    "    #obtain negative sites\n",
    "    sequences = negative_seq(positive, sub_acc, codes)\n",
    "    \n",
    "    ads = './data/Family negative/'+ str(group) +'_STY_negative.txt'\n",
    "    write_neg(ads, sequences)"
   ]
  },
  {
   "cell_type": "code",
   "execution_count": null,
   "metadata": {},
   "outputs": [],
   "source": [
    "#ST\n",
    "codes = [\"S\", \"T\"]\n",
    "for group in families_st:\n",
    "    \n",
    "    df = pd.read_csv(\"./data/Family K-S sites/\"+str(group)+\"_Family.csv\")\n",
    "    \n",
    "    #filter S/T sites\n",
    "    df = df[df[\"CODE\"].isin([\"S\", \"T\"])]\n",
    "    \n",
    "    #export positive sites\n",
    "    df[\"PEPTIDE\"].to_csv('./data/Family positive/'+str(group)+'_ST_positive.txt', index=False, header=False)\n",
    "    \n",
    "    positive = df[\"PEPTIDE\"].to_list()\n",
    "    sub_acc = df[\"SUB_ACC\"].unique()\n",
    "    \n",
    "    #obtain negative sites\n",
    "    sequences = negative_seq(positive, sub_acc, codes)\n",
    "    \n",
    "    ads = './data/Family negative/'+ str(group) +'_ST_negative.txt'\n",
    "    write_neg(ads, sequences)"
   ]
  },
  {
   "cell_type": "code",
   "execution_count": null,
   "metadata": {},
   "outputs": [],
   "source": [
    "#Y\n",
    "codes = [\"Y\"]\n",
    "for group in families_y:\n",
    "    \n",
    "    df = pd.read_csv(\"./data/Family K-S sites/\"+str(group)+\"_Family.csv\")\n",
    "    \n",
    "    #filter Y site\n",
    "    df = df[df[\"CODE\"].isin([\"Y\"])]\n",
    "    \n",
    "    #export positive sites\n",
    "    df[\"PEPTIDE\"].to_csv('./data/Family positive/'+str(group) +'_Y_positive.txt', index=False, header=False)\n",
    "    \n",
    "    positive = df[\"PEPTIDE\"].to_list()\n",
    "    sub_acc = df[\"SUB_ACC\"].unique()\n",
    "    \n",
    "    #obtain negative sites\n",
    "    sequences = negative_seq(positive, sub_acc, codes)\n",
    "    \n",
    "    ads = './data/Family negative/'+ str(group) +'_Y_negative.txt'\n",
    "    write_neg(ads, sequences)"
   ]
  },
  {
   "cell_type": "code",
   "execution_count": null,
   "metadata": {},
   "outputs": [],
   "source": []
  },
  {
   "cell_type": "markdown",
   "metadata": {},
   "source": [
    "### Individual kinase level"
   ]
  },
  {
   "cell_type": "code",
   "execution_count": null,
   "metadata": {},
   "outputs": [],
   "source": [
    "# get the name lists of kinase families with more than 15 S/T/Y, S/T, and Y sites, respectively\n",
    "kinases = np.load(\"kinase 15.npy\", allow_pickle=True)\n",
    "kinases_st = np.load(\"kinase_st 15.npy\", allow_pickle=True)\n",
    "kinases_y = np.load(\"kinase_y 15.npy\", allow_pickle=True)"
   ]
  },
  {
   "cell_type": "code",
   "execution_count": null,
   "metadata": {},
   "outputs": [],
   "source": [
    "#STY\n",
    "codes=[\"S\", \"T\", \"Y\"]\n",
    "for group in kinases:\n",
    "    \n",
    "    df = pd.read_csv(\"./data/Kinase K-S sites/\"+str(group)+\".csv\")\n",
    "    \n",
    "    #export positive sites\n",
    "    df[\"PEPTIDE\"].to_csv('./data/Kinase positive/'+str(group) +'_STY_positive.txt', index=False, header=False)\n",
    "    \n",
    "    positive = df[\"PEPTIDE\"].to_list()\n",
    "    sub_acc = df[\"SUB_ACC\"].unique()\n",
    "    \n",
    "    #obtain negative sites\n",
    "    sequences = negative_seq(positive, sub_acc, codes)\n",
    "    \n",
    "    ads = './data/Kinase negative/'+ str(group) +'_STY_negative.txt'\n",
    "    write_neg(ads, sequences)"
   ]
  },
  {
   "cell_type": "code",
   "execution_count": null,
   "metadata": {},
   "outputs": [],
   "source": [
    "#ST\n",
    "codes = [\"S\", \"T\"]\n",
    "for group in kinases_st:\n",
    "    \n",
    "    df = pd.read_csv(\"./data/Kinase K-S sites/\"+str(group)+\".csv\")\n",
    "    \n",
    "    #filter S/T sites\n",
    "    df = df[df[\"CODE\"].isin([\"S\", \"T\"])]\n",
    "    \n",
    "    #export positive sites\n",
    "    df[\"PEPTIDE\"].to_csv('./data/Kinase positive/'+str(group)+'_ST_positive.txt', index=False, header=False)\n",
    "    \n",
    "    positive = df[\"PEPTIDE\"].to_list()\n",
    "    sub_acc = df[\"SUB_ACC\"].unique()\n",
    "    \n",
    "    #obtain negative sites\n",
    "    sequences = negative_seq(positive, sub_acc, codes)\n",
    "    \n",
    "    ads = './data/Kinase negative/'+ str(group) +'_ST_negative.txt'\n",
    "    write_neg(ads, sequences)"
   ]
  },
  {
   "cell_type": "code",
   "execution_count": null,
   "metadata": {},
   "outputs": [],
   "source": [
    "#Y\n",
    "codes = [\"Y\"]\n",
    "for group in kinases_y:\n",
    "    \n",
    "    df = pd.read_csv(\"./data/Kinase K-S sites/\"+str(group)+\".csv\")\n",
    "    \n",
    "    #filter Y site\n",
    "    df = df[df[\"CODE\"].isin([\"Y\"])]\n",
    "    \n",
    "    #export positive sites\n",
    "    df[\"PEPTIDE\"].to_csv('./data/Kinase positive/'+str(group) +'_Y_positive.txt', index=False, header=False)\n",
    "    \n",
    "    positive = df[\"PEPTIDE\"].to_list()\n",
    "    sub_acc = df[\"SUB_ACC\"].unique()\n",
    "    \n",
    "    #obtain negative sites\n",
    "    sequences = negative_seq(positive, sub_acc, codes)\n",
    "    \n",
    "    ads = './data/Kinase negative/'+ str(group) +'_Y_negative.txt'\n",
    "    write_neg(ads, sequences)"
   ]
  },
  {
   "cell_type": "code",
   "execution_count": null,
   "metadata": {},
   "outputs": [],
   "source": []
  },
  {
   "cell_type": "code",
   "execution_count": null,
   "metadata": {},
   "outputs": [],
   "source": []
  }
 ],
 "metadata": {
  "kernelspec": {
   "display_name": "Python 3",
   "language": "python",
   "name": "python3"
  },
  "language_info": {
   "codemirror_mode": {
    "name": "ipython",
    "version": 3
   },
   "file_extension": ".py",
   "mimetype": "text/x-python",
   "name": "python",
   "nbconvert_exporter": "python",
   "pygments_lexer": "ipython3",
   "version": "3.8.3"
  }
 },
 "nbformat": 4,
 "nbformat_minor": 4
}
