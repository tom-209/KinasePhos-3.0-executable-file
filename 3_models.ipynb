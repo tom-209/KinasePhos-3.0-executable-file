{
 "cells": [
  {
   "cell_type": "code",
   "execution_count": 1,
   "metadata": {},
   "outputs": [],
   "source": [
    "import pandas as pd\n",
    "import numpy as np\n",
    "import pickle"
   ]
  },
  {
   "cell_type": "code",
   "execution_count": 2,
   "metadata": {},
   "outputs": [],
   "source": [
    "from sklearn import model_selection\n",
    "from imblearn.under_sampling import RandomUnderSampler\n",
    "from xgboost import XGBClassifier"
   ]
  },
  {
   "cell_type": "code",
   "execution_count": null,
   "metadata": {},
   "outputs": [],
   "source": []
  },
  {
   "cell_type": "markdown",
   "metadata": {},
   "source": [
    "# Function to run XGBoost model and return results"
   ]
  },
  {
   "cell_type": "code",
   "execution_count": 3,
   "metadata": {},
   "outputs": [],
   "source": [
    "def XGBoost_model(pos_addr, neg_addr, groups):\n",
    "        \n",
    "    df = pd.DataFrame()\n",
    "    models = []\n",
    "    No_pos = []\n",
    "    No_neg = []\n",
    "    neg2pos = []\n",
    "    accuracy = []\n",
    "    f1 = []\n",
    "    precision = []\n",
    "    recall = []\n",
    "    roc_auc = []\n",
    "\n",
    "    for group in groups:\n",
    "\n",
    "        df_positive = pd.read_csv( pos_addr + group + \".txt\", sep=\",\", index_col=False, header=None)\n",
    "        df_negative = pd.read_csv( neg_addr + group + \".txt\", sep=\",\", index_col=False, header=None)\n",
    "\n",
    "        df_positive[300]=1\n",
    "        df_negative[300]=0\n",
    "\n",
    "        df2 = pd.concat([df_positive, df_negative], axis=0)\n",
    "\n",
    "        X = df2.drop(300, axis=1)\n",
    "        y = df2[300]\n",
    "\n",
    "        # under sample the number of negative data to 5 times of positve, if negative/positive > 5\n",
    "        if float(len(df_negative)/len(df_positive)) > 5:\n",
    "            undersample = RandomUnderSampler(sampling_strategy=0.2)\n",
    "            X, y = undersample.fit_resample(X, y)\n",
    "            \n",
    "        if float(len(df_negative))/(len(df_positive))>5:\n",
    "            temp= 5\n",
    "        else:\n",
    "            temp=float(len(df_negative))/(len(df_positive))\n",
    "\n",
    "        model = XGBClassifier(eval_metric='logloss', use_label_encoder =False)\n",
    "        metrics = model_selection.cross_validate(model, X, y, scoring=['accuracy','f1_weighted',\\\n",
    "                 'precision_weighted', 'recall_weighted', 'roc_auc'], cv=10)\n",
    "        \n",
    "        models.append(group)\n",
    "        No_pos.append(len(df_positive))\n",
    "        No_neg.append(len(df_negative))\n",
    "        neg2pos.append(temp)\n",
    "        accuracy.append(metrics[\"test_accuracy\"].mean())\n",
    "        f1.append(metrics[\"test_f1_weighted\"].mean())\n",
    "        precision.append(metrics[\"test_precision_weighted\"].mean())\n",
    "        recall.append(metrics[\"test_recall_weighted\"].mean())\n",
    "        roc_auc.append(metrics[\"test_roc_auc\"].mean())\n",
    "        \n",
    "\n",
    "    df[\"Model\"] = models\n",
    "    df[\"No. of positive sites\"] = No_pos\n",
    "    df[\"No. of negative sites\"] = No_neg\n",
    "    df[\"Neg/pos\"] = neg2pos\n",
    "    df[\"Accuracy\"] = accuracy\n",
    "    df[\"Weighted f1 score\"] =f1\n",
    "    df[\"Weighted precision\"] = precision\n",
    "    df[\"Weighted recall\"] = recall\n",
    "    df[\"ROC_AUC\"] = roc_auc  \n",
    "    \n",
    "    return df"
   ]
  },
  {
   "cell_type": "code",
   "execution_count": null,
   "metadata": {},
   "outputs": [],
   "source": []
  },
  {
   "cell_type": "markdown",
   "metadata": {},
   "source": [
    "# Kinase group level results"
   ]
  },
  {
   "cell_type": "code",
   "execution_count": null,
   "metadata": {},
   "outputs": [],
   "source": [
    "groups = ['TK', 'CMGC', 'AGC', 'STE', 'CK1', 'CAMK', 'Other', 'TKL', 'Atypical', 'PKL']\n",
    "\n",
    "pos_addr = \"./features/group_positive_features/\"\n",
    "neg_addr = \"./features/group_negative_features/\"\n",
    "\n",
    "results = XGBoost_model(pos_addr, neg_addr, groups)\n",
    "results.to_csv(\"./results/Group STY results with 10-fold cross validation.csv\", index = False)"
   ]
  },
  {
   "cell_type": "code",
   "execution_count": null,
   "metadata": {},
   "outputs": [],
   "source": []
  },
  {
   "cell_type": "markdown",
   "metadata": {},
   "source": [
    "# Kinase family level results"
   ]
  },
  {
   "cell_type": "code",
   "execution_count": null,
   "metadata": {},
   "outputs": [],
   "source": [
    "families = np.load(\"family 15.npy\", allow_pickle=True)\n",
    "families_st = np.load(\"family_st 15.npy\", allow_pickle=True)\n",
    "families_y = np.load(\"family_y 15.npy\", allow_pickle=True)"
   ]
  },
  {
   "cell_type": "markdown",
   "metadata": {},
   "source": [
    "##### S/T/Y sites"
   ]
  },
  {
   "cell_type": "code",
   "execution_count": null,
   "metadata": {},
   "outputs": [],
   "source": [
    "pos_addr = \"./features/family_all_positive_features/\"\n",
    "neg_addr = \"./features/family_all_negative_features/\"\n",
    "\n",
    "results = XGBoost_model(pos_addr, neg_addr, families)\n",
    "results.to_csv(\"./results/Family STY results with 10-fold cross validation.csv\", index = False)"
   ]
  },
  {
   "cell_type": "markdown",
   "metadata": {},
   "source": [
    "##### S/T sites"
   ]
  },
  {
   "cell_type": "code",
   "execution_count": null,
   "metadata": {},
   "outputs": [],
   "source": [
    "pos_addr = \"./features/family_st_positive_features/\"\n",
    "neg_addr = \"./features/family_st_negative_features/\"\n",
    "\n",
    "results = XGBoost_model(pos_addr, neg_addr, families_st)\n",
    "results.to_csv(\"./results/Family ST results with 10-fold cross validation.csv\", index = False)"
   ]
  },
  {
   "cell_type": "markdown",
   "metadata": {},
   "source": [
    "##### Y site"
   ]
  },
  {
   "cell_type": "code",
   "execution_count": null,
   "metadata": {},
   "outputs": [],
   "source": [
    "pos_addr = \"./features/family_y_positive_features/\"\n",
    "neg_addr = \"./features/family_y_negative_features/\"\n",
    "\n",
    "results = XGBoost_model(pos_addr, neg_addr, families_y)\n",
    "results.to_csv(\"./results/Family Y results with 10-fold cross validation.csv\", index = False)"
   ]
  },
  {
   "cell_type": "code",
   "execution_count": null,
   "metadata": {},
   "outputs": [],
   "source": []
  },
  {
   "cell_type": "markdown",
   "metadata": {},
   "source": [
    "# Individual kinase level results"
   ]
  },
  {
   "cell_type": "code",
   "execution_count": null,
   "metadata": {},
   "outputs": [],
   "source": [
    "kinases = np.load(\"kinase 15.npy\", allow_pickle=True)\n",
    "kinases_st = np.load(\"kinase_st 15.npy\", allow_pickle=True)\n",
    "kinases_y = np.load(\"kinase_y 15.npy\", allow_pickle=True)"
   ]
  },
  {
   "cell_type": "markdown",
   "metadata": {},
   "source": [
    "##### S/T/Y sites"
   ]
  },
  {
   "cell_type": "code",
   "execution_count": null,
   "metadata": {},
   "outputs": [],
   "source": [
    "pos_addr = \"./features/kinase_all_positive_features/\"\n",
    "neg_addr = \"./features/kinase_all_negative_features/\"\n",
    "\n",
    "results = XGBoost_model(pos_addr, neg_addr, kinases)\n",
    "results.to_csv(\"./results/kinase STY results with 10-fold cross validation.csv\", index = False)"
   ]
  },
  {
   "cell_type": "markdown",
   "metadata": {},
   "source": [
    "##### S/T site"
   ]
  },
  {
   "cell_type": "code",
   "execution_count": null,
   "metadata": {},
   "outputs": [],
   "source": [
    "pos_addr = \"./features/kinase_st_positive_features/\"\n",
    "neg_addr = \"./features/kinase_st_negative_features/\"\n",
    "\n",
    "results = XGBoost_model(pos_addr, neg_addr, kinases_st)\n",
    "results.to_csv(\"./results/kinase ST results with 10-fold cross validation.csv\", index = False)"
   ]
  },
  {
   "cell_type": "markdown",
   "metadata": {},
   "source": [
    "##### Y site"
   ]
  },
  {
   "cell_type": "code",
   "execution_count": null,
   "metadata": {},
   "outputs": [],
   "source": [
    "pos_addr = \"./features/kinase_y_positive_features/\"\n",
    "neg_addr = \"./features/kinase_y_negative_features/\"\n",
    "\n",
    "results = XGBoost_model(pos_addr, neg_addr, kinases_y)\n",
    "results.to_csv(\"./results/kinase Y results with 10-fold cross validation.csv\", index = False)"
   ]
  },
  {
   "cell_type": "code",
   "execution_count": null,
   "metadata": {},
   "outputs": [],
   "source": []
  }
 ],
 "metadata": {
  "kernelspec": {
   "display_name": "Python 3",
   "language": "python",
   "name": "python3"
  },
  "language_info": {
   "codemirror_mode": {
    "name": "ipython",
    "version": 3
   },
   "file_extension": ".py",
   "mimetype": "text/x-python",
   "name": "python",
   "nbconvert_exporter": "python",
   "pygments_lexer": "ipython3",
   "version": "3.8.3"
  }
 },
 "nbformat": 4,
 "nbformat_minor": 4
}
