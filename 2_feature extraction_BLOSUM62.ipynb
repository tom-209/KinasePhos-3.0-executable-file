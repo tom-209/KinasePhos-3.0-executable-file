{
 "cells": [
  {
   "cell_type": "markdown",
   "metadata": {},
   "source": [
    "## Import related libraries"
   ]
  },
  {
   "cell_type": "code",
   "execution_count": 1,
   "metadata": {},
   "outputs": [],
   "source": [
    "import numpy as np"
   ]
  },
  {
   "cell_type": "code",
   "execution_count": null,
   "metadata": {},
   "outputs": [],
   "source": []
  },
  {
   "cell_type": "markdown",
   "metadata": {},
   "source": [
    "# Functions to perform BLOSUM62 encoding"
   ]
  },
  {
   "cell_type": "code",
   "execution_count": 2,
   "metadata": {},
   "outputs": [],
   "source": [
    "def read_protein_sequences(file):\n",
    "    with open(file) as f:\n",
    "        sequences = f.read()\n",
    "        \n",
    "    sequences = list(filter(None, sequences.split('\\n'))) \n",
    "    return(sequences)\n",
    "\n",
    "\n",
    "def BLOSUM62(sequences):\n",
    "    blosum62 = {\n",
    "        'A': [4,  -1, -2, -2, 0,  -1, -1, 0, -2,  -1, -1, -1, -1, -2, -1, 1,  0,  -3, -2, 0],  # A\n",
    "        'R': [-1, 5,  0,  -2, -3, 1,  0,  -2, 0,  -3, -2, 2,  -1, -3, -2, -1, -1, -3, -2, -3], # R\n",
    "        'N': [-2, 0,  6,  1,  -3, 0,  0,  0,  1,  -3, -3, 0,  -2, -3, -2, 1,  0,  -4, -2, -3], # N\n",
    "        'D': [-2, -2, 1,  6,  -3, 0,  2,  -1, -1, -3, -4, -1, -3, -3, -1, 0,  -1, -4, -3, -3], # D\n",
    "        'C': [0,  -3, -3, -3, 9,  -3, -4, -3, -3, -1, -1, -3, -1, -2, -3, -1, -1, -2, -2, -1], # C\n",
    "        'Q': [-1, 1,  0,  0,  -3, 5,  2,  -2, 0,  -3, -2, 1,  0,  -3, -1, 0,  -1, -2, -1, -2], # Q\n",
    "        'E': [-1, 0,  0,  2,  -4, 2,  5,  -2, 0,  -3, -3, 1,  -2, -3, -1, 0,  -1, -3, -2, -2], # E\n",
    "        'G': [0,  -2, 0,  -1, -3, -2, -2, 6,  -2, -4, -4, -2, -3, -3, -2, 0,  -2, -2, -3, -3], # G\n",
    "        'H': [-2, 0,  1,  -1, -3, 0,  0,  -2, 8,  -3, -3, -1, -2, -1, -2, -1, -2, -2, 2,  -3], # H\n",
    "        'I': [-1, -3, -3, -3, -1, -3, -3, -4, -3, 4,  2,  -3, 1,  0,  -3, -2, -1, -3, -1, 3],  # I\n",
    "        'L': [-1, -2, -3, -4, -1, -2, -3, -4, -3, 2,  4,  -2, 2,  0,  -3, -2, -1, -2, -1, 1],  # L\n",
    "        'K': [-1, 2,  0,  -1, -3, 1,  1,  -2, -1, -3, -2, 5,  -1, -3, -1, 0,  -1, -3, -2, -2], # K\n",
    "        'M': [-1, -1, -2, -3, -1, 0,  -2, -3, -2, 1,  2,  -1, 5,  0,  -2, -1, -1, -1, -1, 1],  # M\n",
    "        'F': [-2, -3, -3, -3, -2, -3, -3, -3, -1, 0,  0,  -3, 0,  6,  -4, -2, -2, 1,  3,  -1], # F\n",
    "        'P': [-1, -2, -2, -1, -3, -1, -1, -2, -2, -3, -3, -1, -2, -4, 7,  -1, -1, -4, -3, -2], # P\n",
    "        'S': [1,  -1, 1,  0,  -1, 0,  0,  0,  -1, -2, -2, 0,  -1, -2, -1, 4,  1,  -3, -2, -2], # S\n",
    "        'T': [0,  -1, 0,  -1, -1, -1, -1, -2, -2, -1, -1, -1, -1, -2, -1, 1,  5,  -2, -2, 0],  # T\n",
    "        'W': [-3, -3, -4, -4, -2, -2, -3, -2, -2, -3, -2, -3, -1, 1,  -4, -3, -2, 11, 2,  -3], # W\n",
    "        'Y': [-2, -2, -2, -3, -2, -1, -2, -3, 2,  -1, -1, -2, -1, 3,  -3, -2, -2, 2,  7,  -1], # Y\n",
    "        'V': [0,  -3, -3, -3, -1, -2, -2, -3, -3, 3,  1,  -2, 1,  -1, -2, -2, 0,  -3, -1, 4],  # V\n",
    "        '*': [0,  0,  0,  0,  0,  0,  0,  0,  0,  0,  0,  0,  0,  0,  0,  0,  0,  0,  0,  0],  # *\n",
    "        '_': [0,  0,  0,  0,  0,  0,  0,  0,  0,  0,  0,  0,  0,  0,  0,  0,  0,  0,  0,  0],  # _\n",
    "        'X': [0,  0,  0,  0,  0,  0,  0,  0,  0,  0,  0,  0,  0,  0,  0,  0,  0,  0,  0,  0],  # _\n",
    "    }\n",
    "    \n",
    "    encodings = []\n",
    "    for sequence in sequences:\n",
    "        code=[]  \n",
    "        for j in sequence:\n",
    "            code = code + blosum62[j]\n",
    "        encodings.append(code) \n",
    "    return encodings\n",
    "\n",
    "\n",
    "def write_to_csv(encodings, file):\n",
    "    with open(file, 'w') as f:\n",
    "        for line in encodings:\n",
    "            f.write(str(line[0]))\n",
    "            for i in range(1, len(line)):\n",
    "                f.write(',%s' % line[i])\n",
    "            f.write('\\n')"
   ]
  },
  {
   "cell_type": "code",
   "execution_count": null,
   "metadata": {},
   "outputs": [],
   "source": []
  },
  {
   "cell_type": "markdown",
   "metadata": {},
   "source": [
    "# Read sequence data and save features"
   ]
  },
  {
   "cell_type": "markdown",
   "metadata": {},
   "source": [
    "### Kinase groups"
   ]
  },
  {
   "cell_type": "code",
   "execution_count": 3,
   "metadata": {},
   "outputs": [],
   "source": [
    "groups = ['TK', 'CMGC', 'AGC', 'STE', 'CK1', 'CAMK', 'Other', 'TKL', 'Atypical', 'PKL']"
   ]
  },
  {
   "cell_type": "code",
   "execution_count": null,
   "metadata": {},
   "outputs": [],
   "source": [
    "for group in groups:\n",
    "    #positive sites\n",
    "    file = \"./data/Group positive/\"+group+'_positive.txt'\n",
    "    sequences=read_protein_sequences(file)\n",
    "    encode=BLOSUM62(sequences)\n",
    "    write_to_csv(encode, \"./features/group_positive_features/\"+group+\".txt\")\n",
    "    \n",
    "    #negative sites\n",
    "    file2 = \"./data/Group negative/\"+group+'_negative.txt'\n",
    "    sequences2=read_protein_sequences(file2)\n",
    "    encode2=BLOSUM62(sequences2)\n",
    "    write_to_csv(encode2, \"./features/group_negative_features/\"+group+\".txt\")"
   ]
  },
  {
   "cell_type": "code",
   "execution_count": null,
   "metadata": {},
   "outputs": [],
   "source": []
  },
  {
   "cell_type": "markdown",
   "metadata": {},
   "source": [
    "### Kinase families"
   ]
  },
  {
   "cell_type": "code",
   "execution_count": null,
   "metadata": {},
   "outputs": [],
   "source": [
    "# get the name lists of kinase families with more than 15 S/T/Y, S/T, and Y sites, respectively\n",
    "families = np.load(\"family 15.npy\", allow_pickle=True)\n",
    "families_st = np.load(\"family_st 15.npy\", allow_pickle=True)\n",
    "families_y = np.load(\"family_y 15.npy\", allow_pickle=True)"
   ]
  },
  {
   "cell_type": "code",
   "execution_count": null,
   "metadata": {},
   "outputs": [],
   "source": [
    "# S/T/Y sites\n",
    "for group in families:\n",
    "    #positive sites\n",
    "    file = \"./data/Family positive/\"+group+'_STY_positive.txt'\n",
    "    sequences=read_protein_sequences(file)\n",
    "    encode=BLOSUM62(sequences)\n",
    "    write_to_csv(encode, \"./features/family_all_positive_features/\"+group+\".txt\")\n",
    "    \n",
    "    #negative sites\n",
    "    file2 = \"./data/Family negative/\"+group+'_STY_negative.txt'\n",
    "    sequences2=read_protein_sequences(file2)\n",
    "    encode2=BLOSUM62(sequences2)\n",
    "    write_to_csv(encode2, \"./features/family_all_negative_features/\"+group+\".txt\")\n",
    "\n",
    "#S/T sites\n",
    "for group in families_st:\n",
    "    #positive sites\n",
    "    file = \"./data/Family positive/\"+group+'_ST_positive.txt'\n",
    "    sequences=read_protein_sequences(file)\n",
    "    encode=BLOSUM62(sequences)\n",
    "    write_to_csv(encode, \"./features/family_st_positive_features/\"+group+\".txt\")\n",
    "    \n",
    "    #negative sites\n",
    "    file2 = \"./data/Family negative/\"+group+'_ST_negative.txt'\n",
    "    sequences2=read_protein_sequences(file2)\n",
    "    encode2=BLOSUM62(sequences2)\n",
    "    write_to_csv(encode2, \"./features/family_st_negative_features/\"+group+\".txt\")\n",
    "\n",
    "#Y site\n",
    "for group in families_y:\n",
    "    #positive sites\n",
    "    file = \"./data/Family positive/\"+group+'_Y_positive.txt'\n",
    "    sequences=read_protein_sequences(file)\n",
    "    encode=BLOSUM62(sequences)\n",
    "    write_to_csv(encode, \"./features/family_y_positive_features/\"+group+\".txt\")\n",
    "    \n",
    "    #negative sites\n",
    "    file2 = \"./data/Family negative/\"+group+'_Y_negative.txt'\n",
    "    sequences2=read_protein_sequences(file2)\n",
    "    encode2=BLOSUM62(sequences2)\n",
    "    write_to_csv(encode2, \"./features/family_y_negative_features/\"+group+\".txt\")"
   ]
  },
  {
   "cell_type": "code",
   "execution_count": null,
   "metadata": {},
   "outputs": [],
   "source": []
  },
  {
   "cell_type": "markdown",
   "metadata": {},
   "source": [
    "### Kinases"
   ]
  },
  {
   "cell_type": "code",
   "execution_count": null,
   "metadata": {},
   "outputs": [],
   "source": [
    "# get the name lists of kinase families with more than 15 S/T/Y, S/T, and Y sites, respectively\n",
    "kinases = np.load(\"kinase 15.npy\", allow_pickle=True)\n",
    "kinases_st = np.load(\"kinase_st 15.npy\", allow_pickle=True)\n",
    "kinases_y = np.load(\"kinase_y 15.npy\", allow_pickle=True)"
   ]
  },
  {
   "cell_type": "code",
   "execution_count": null,
   "metadata": {},
   "outputs": [],
   "source": [
    "# S/T/Y sites\n",
    "for group in kinases:\n",
    "    #positive sites\n",
    "    file = \"./data/Kinase positive/\"+group+'_STY_positive.txt'\n",
    "    sequences=read_protein_sequences(file)\n",
    "    encode=BLOSUM62(sequences)\n",
    "    write_to_csv(encode, \"./features/kinase_all_positive_features/\"+group+\".txt\")\n",
    "    \n",
    "    #negative sites\n",
    "    file2 = \"./data/Kinase negative/\"+group+'_STY_negative.txt'\n",
    "    sequences2=read_protein_sequences(file2)\n",
    "    encode2=BLOSUM62(sequences2)\n",
    "    write_to_csv(encode2, \"./features/kinase_all_negative_features/\"+group+\".txt\")\n",
    "\n",
    "#S/T sites\n",
    "for group in kinases_st:\n",
    "    #positive sites\n",
    "    file = \"./data/Kinase positive/\"+group+'_ST_positive.txt'\n",
    "    sequences=read_protein_sequences(file)\n",
    "    encode=BLOSUM62(sequences)\n",
    "    write_to_csv(encode, \"./features/kinase_st_positive_features/\"+group+\".txt\")\n",
    "    \n",
    "    #negative sites\n",
    "    file2 = \"./data/Kinase negative/\"+group+'_ST_negative.txt'\n",
    "    sequences2=read_protein_sequences(file2)\n",
    "    encode2=BLOSUM62(sequences2)\n",
    "    write_to_csv(encode2, \"./features/kinase_st_negative_features/\"+group+\".txt\")\n",
    "\n",
    "#Y site\n",
    "for group in kinases_y:\n",
    "    #positive sites\n",
    "    file = \"./data/Kinase positive/\"+group+'_Y_positive.txt'\n",
    "    sequences=read_protein_sequences(file)\n",
    "    encode=BLOSUM62(sequences)\n",
    "    write_to_csv(encode, \"./features/kinase_y_positive_features/\"+group+\".txt\")\n",
    "    \n",
    "    #negative sites\n",
    "    file2 = \"./data/Kinase negative/\"+group+'_Y_negative.txt'\n",
    "    sequences2=read_protein_sequences(file2)\n",
    "    encode2=BLOSUM62(sequences2)\n",
    "    write_to_csv(encode2, \"./features/kinase_y_negative_features/\"+group+\".txt\")"
   ]
  },
  {
   "cell_type": "code",
   "execution_count": null,
   "metadata": {},
   "outputs": [],
   "source": []
  }
 ],
 "metadata": {
  "kernelspec": {
   "display_name": "Python 3",
   "language": "python",
   "name": "python3"
  },
  "language_info": {
   "codemirror_mode": {
    "name": "ipython",
    "version": 3
   },
   "file_extension": ".py",
   "mimetype": "text/x-python",
   "name": "python",
   "nbconvert_exporter": "python",
   "pygments_lexer": "ipython3",
   "version": "3.8.3"
  }
 },
 "nbformat": 4,
 "nbformat_minor": 4
}
